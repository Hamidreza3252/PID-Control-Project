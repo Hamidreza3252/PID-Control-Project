{
 "cells": [
  {
   "cell_type": "code",
   "execution_count": 16,
   "metadata": {
    "scrolled": true
   },
   "outputs": [
    {
     "data": {
      "text/html": [
       "<style>.container { width:80% !important; }</style>"
      ],
      "text/plain": [
       "<IPython.core.display.HTML object>"
      ]
     },
     "metadata": {},
     "output_type": "display_data"
    }
   ],
   "source": [
    "from IPython.core.display import display, HTML\n",
    "display(HTML(\"<style>.container { width:80% !important; }</style>\"))"
   ]
  },
  {
   "cell_type": "code",
   "execution_count": null,
   "metadata": {},
   "outputs": [],
   "source": []
  },
  {
   "cell_type": "markdown",
   "metadata": {},
   "source": [
    "# PID Control Project \n",
    "\n",
    "\n",
    "## 1. Objective \n",
    "The objective of this project is to develop and fine-tune the parameters of two PID controllers to adjust the steering and throtle of the car.  \n",
    "\n",
    "## 2. Approach \n",
    "\n",
    "The simulator provides cte (error with respeect to the center of the lane), speed, and steering angle of the ego car. The PID controller class has two functions to estimate the steering angle and the throtle to get up to speed of 30 mph. \n",
    "\n",
    "These methods are: \n",
    "- `TotalSteerError` calculates total PID error of steering \n",
    "- `TotalThrotleError` calculates total PID error of throtle. This method works with the velocity error which is the differene between the velocity of the ego vehicle and the set point of 30 mph. \n",
    "\n",
    "## 3. Dependencies\n",
    "\n",
    "* cmake >= 3.5\n",
    "* gcc/g++ >= 5.4\n",
    "* [uWebSockets](https://github.com/uWebSockets/uWebSockets)\n",
    "  * Run either `install-mac.sh` or `install-ubuntu.sh`.\n",
    "  * If you install from source, checkout to commit `e94b6e1`, i.e.\n",
    "    ```\n",
    "    git clone https://github.com/uWebSockets/uWebSockets \n",
    "    cd uWebSockets\n",
    "    git checkout e94b6e1\n",
    "    ```\n",
    "* The simulator can be downloaded from [project intro page](https://github.com/udacity/self-driving-car-sim/releases). \n",
    "\n",
    "## 4. Code Style\n",
    "\n",
    "Please (do your best to) stick to [Google's C++ style guide](https://google.github.io/styleguide/cppguide.html). \n",
    "\n",
    "\n"
   ]
  },
  {
   "cell_type": "code",
   "execution_count": null,
   "metadata": {},
   "outputs": [],
   "source": []
  }
 ],
 "metadata": {
  "kernelspec": {
   "display_name": "Python 3",
   "language": "python",
   "name": "python3"
  },
  "language_info": {
   "codemirror_mode": {
    "name": "ipython",
    "version": 3
   },
   "file_extension": ".py",
   "mimetype": "text/x-python",
   "name": "python",
   "nbconvert_exporter": "python",
   "pygments_lexer": "ipython3",
   "version": "3.7.5"
  }
 },
 "nbformat": 4,
 "nbformat_minor": 2
}
